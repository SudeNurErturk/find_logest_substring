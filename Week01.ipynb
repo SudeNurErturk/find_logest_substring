{
 "cells": [
  {
   "cell_type": "code",
   "execution_count": 4,
   "id": "f3d720f6",
   "metadata": {},
   "outputs": [],
   "source": [
    "class Substring:\n",
    "\n",
    " def longest_substring(self,text01):\n",
    "    start = 0\n",
    "    max_length = 0\n",
    "    char_index_map = {}\n",
    "    longest_substrings = []\n",
    "\n",
    "    for end, char in enumerate(text01):\n",
    "        if char in char_index_map and char_index_map[char] >= start:\n",
    "            start = char_index_map[char] + 1\n",
    "        else:\n",
    "            sub_length = end - start + 1\n",
    "            if sub_length > max_length:\n",
    "                max_length = sub_length\n",
    "                longest_substrings = [text01[start:end + 1]]\n",
    "            elif sub_length == max_length:\n",
    "                longest_substrings.append(text01[start:end + 1])\n",
    "\n",
    "        char_index_map[char] = end\n",
    "\n",
    "    return longest_substrings\n",
    "\n",
    "\n",
    "    "
   ]
  },
  {
   "cell_type": "code",
   "execution_count": 5,
   "id": "f32ca170",
   "metadata": {},
   "outputs": [
    {
     "name": "stdout",
     "output_type": "stream",
     "text": [
      "Output 1: ab length: 2\n",
      "Output 2: bc length: 2\n",
      "Output 3: cd length: 2\n"
     ]
    }
   ],
   "source": [
    "\n",
    "class Test:\n",
    "   if __name__ == \"__main__\":\n",
    "    my_obj =Substring()\n",
    "    text01 = \"aabjslklnxmgsx\"\n",
    "    text02 =\"aabbccd\"\n",
    "    sonuc01 = my_obj.longest_substring(text02)\n",
    "    for i, sub_string in enumerate(sonuc01, 1):\n",
    "      print(f\"Output {i}: {sub_string} length: {len(sub_string)}\")"
   ]
  },
  {
   "cell_type": "code",
   "execution_count": null,
   "id": "01fb4f1c",
   "metadata": {},
   "outputs": [],
   "source": []
  }
 ],
 "metadata": {
  "kernelspec": {
   "display_name": "Python 3 (ipykernel)",
   "language": "python",
   "name": "python3"
  },
  "language_info": {
   "codemirror_mode": {
    "name": "ipython",
    "version": 3
   },
   "file_extension": ".py",
   "mimetype": "text/x-python",
   "name": "python",
   "nbconvert_exporter": "python",
   "pygments_lexer": "ipython3",
   "version": "3.9.13"
  }
 },
 "nbformat": 4,
 "nbformat_minor": 5
}
